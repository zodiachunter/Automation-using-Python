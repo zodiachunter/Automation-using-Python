{
  "nbformat": 4,
  "nbformat_minor": 0,
  "metadata": {
    "colab": {
      "provenance": [],
      "authorship_tag": "ABX9TyNyzkRaIgwnRR1il19/QVdm",
      "include_colab_link": true
    },
    "kernelspec": {
      "name": "python3",
      "display_name": "Python 3"
    },
    "language_info": {
      "name": "python"
    }
  },
  "cells": [
    {
      "cell_type": "markdown",
      "metadata": {
        "id": "view-in-github",
        "colab_type": "text"
      },
      "source": [
        "<a href=\"https://colab.research.google.com/github/zodiachunter/Edge_dtection/blob/main/getting_URLs.ipynb\" target=\"_parent\"><img src=\"https://colab.research.google.com/assets/colab-badge.svg\" alt=\"Open In Colab\"/></a>"
      ]
    },
    {
      "cell_type": "code",
      "execution_count": 3,
      "metadata": {
        "id": "NN3A-GxHb1Y_"
      },
      "outputs": [],
      "source": [
        "# Getting the list of links from a website"
      ]
    },
    {
      "cell_type": "code",
      "source": [
        "# request library is for making HTTP request in Python\n",
        "# fetches HTML code\n",
        "import requests\n",
        "# re package implements functions to work with regular expressions\n",
        "import re\n",
        "\n",
        "url = input(\"Enter the URL: \")\n",
        "\n",
        "# to perform a request to the URL and get the HTML from the response.\n",
        "html = requests.get(url).text\n",
        "\n",
        "# look for link patterns in the HTML text\n",
        "links = re.findall('\"(https?://.*?)\"', html) #\"(https?://.*?)\" represents links, starting with http:// or https:// that are inside double quotes in the HTML retrieved.\n",
        "\n",
        "# results that match the regular expression are stored in the links list\n",
        "for link in links:\n",
        "    print(link)"
      ],
      "metadata": {
        "id": "qVVE705nb7n5"
      },
      "execution_count": null,
      "outputs": []
    },
    {
      "cell_type": "code",
      "source": [
        "import requests\n",
        "import re\n",
        "\n",
        "# validating the user input to not allow an empty URL, with the following code:\n",
        "while True:\n",
        "    url = input(\"Enter the URL: \")\n",
        "\n",
        "    if url == \"\":\n",
        "        print(\"Invalid URL\")\n",
        "        continue\n",
        "    break\n",
        "\n",
        "html = requests.get(url).text\n",
        "\n",
        "links = re.findall('\"(https?://.*?)\"', html)\n",
        "\n",
        "for link in links:\n",
        "    print(link)"
      ],
      "metadata": {
        "id": "XnNm3XUbcEFj"
      },
      "execution_count": null,
      "outputs": []
    },
    {
      "cell_type": "code",
      "source": [
        "# Run in an IDE such as VSC or Pycharm\n",
        "\n",
        "# add the possibility to run the command using command line arguments, so that you could use it providing the URL directly from the command line.\n",
        "\n",
        "import requests\n",
        "import re\n",
        "\n",
        "# Argparse is a module from Python's standard library that makes it easy to write user-friendly command-line interface.\n",
        "import argparse\n",
        "\n",
        "# parser object will receive the information of the command line arguments you want to use, and parse them to retrieve the information provided by the user via command line\n",
        "parser = argparse.ArgumentParser(\n",
        "    description=\"Get list of links from a website\"\n",
        ")\n",
        "\n",
        "# Configuring the command line arguments\n",
        "# Only one argument is passed, url\n",
        "# nargs=\"?\"  makes this argument not required\n",
        "# defaults it to None in case it is not provided\n",
        "# useful to check if the program is used in command line mode or in interactive mode, as you'll see later\n",
        "parser.add_argument(\"url\", nargs=\"?\", help=\"URL\", default=None)\n",
        "\n",
        "# Parse the arguments and retrieve them to use the information\n",
        "arguments = parser.parse_args()\n",
        "\n",
        "# To indicate whether command line mode or interactive mode is being used\n",
        "# Can control whether to get the URL from the command line argument or from the user input, as implemented in the if block\n",
        "use_arguments = True if arguments.url is not None else False                # True if the program is being used with command line arguments\n",
        "\n",
        "# Check whether url will be obtained from command line argument\n",
        "# or from user input\n",
        "if use_arguments:\n",
        "    url = arguments.url\n",
        "else:\n",
        "    while True:\n",
        "        url = input(\"Enter the URL: \")\n",
        "\n",
        "        if url == \"\":\n",
        "            print(\"Invalid URL\")\n",
        "            continue\n",
        "        break\n",
        "\n",
        "html = requests.get(url).text\n",
        "\n",
        "links = re.findall('\"(https?://.*?)\"', html)\n",
        "\n",
        "for link in links:\n",
        "    print(link)"
      ],
      "metadata": {
        "id": "qZ1URAXTcYsM"
      },
      "execution_count": null,
      "outputs": []
    },
    {
      "cell_type": "code",
      "source": [],
      "metadata": {
        "id": "LT0LGWQCcZyh"
      },
      "execution_count": null,
      "outputs": []
    },
    {
      "cell_type": "code",
      "source": [],
      "metadata": {
        "id": "u_MMYetrcZvB"
      },
      "execution_count": null,
      "outputs": []
    },
    {
      "cell_type": "code",
      "source": [],
      "metadata": {
        "id": "QxwavcvpcZtG"
      },
      "execution_count": null,
      "outputs": []
    },
    {
      "cell_type": "code",
      "source": [],
      "metadata": {
        "id": "d7agiV95cZrX"
      },
      "execution_count": null,
      "outputs": []
    },
    {
      "cell_type": "code",
      "source": [],
      "metadata": {
        "id": "U9FdQNW1cZph"
      },
      "execution_count": null,
      "outputs": []
    },
    {
      "cell_type": "code",
      "source": [],
      "metadata": {
        "id": "Odq6ElczcZn-"
      },
      "execution_count": null,
      "outputs": []
    },
    {
      "cell_type": "code",
      "source": [],
      "metadata": {
        "id": "IXu0ONOscZmb"
      },
      "execution_count": null,
      "outputs": []
    },
    {
      "cell_type": "code",
      "source": [],
      "metadata": {
        "id": "dQBctQ3vcZku"
      },
      "execution_count": null,
      "outputs": []
    },
    {
      "cell_type": "code",
      "source": [],
      "metadata": {
        "id": "A29_sXs5cZjG"
      },
      "execution_count": null,
      "outputs": []
    },
    {
      "cell_type": "code",
      "source": [],
      "metadata": {
        "id": "4f8SsL8xcZc9"
      },
      "execution_count": null,
      "outputs": []
    },
    {
      "cell_type": "code",
      "source": [],
      "metadata": {
        "id": "6YUxE6pscZRC"
      },
      "execution_count": null,
      "outputs": []
    }
  ]
}